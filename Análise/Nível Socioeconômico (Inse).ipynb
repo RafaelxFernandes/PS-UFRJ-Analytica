{
 "cells": [
  {
   "cell_type": "markdown",
   "id": "853b35f3",
   "metadata": {},
   "source": [
    "# Indicador de Nível Socioeconômico das Escolas de Educação Básica (Inse) 2015"
   ]
  },
  {
   "cell_type": "markdown",
   "id": "f22ef513",
   "metadata": {},
   "source": [
    "## Introdução ao tema"
   ]
  },
  {
   "cell_type": "markdown",
   "id": "efb64aea",
   "metadata": {},
   "source": [
    "O monitoramento da qualidade da educação básica, por meio de indicadores, é uma atividade essencial para a orientação e a avaliação das políticas públicas educacionais e das formas de gestão dos sistemas de ensino do país. A introdução do Índice de Desenvolvimento da Educação Básica (Ideb), índice que sintetiza indicadores de fluxo (taxa média de aprovação na etapa de ensino, calculada a partir dos dados do Censo Escolar da Educação Básica) e de desempenho (proficiência média padronizada dos alunos, pelo Sistema de Avaliação da Educação Básica), possibilitou, de forma objetiva, que governantes, gestores e sociedade civil acompanhassem o desenvolvimento da educação básica, a partir da mensuração dessas duas dimensões, tanto das escolas quanto das redes de ensino brasileiras.\n",
    "\n",
    "Em virtude da relação entre o desempenho escolar e o perfil social, econômico e cultural dos\n",
    "alunos, evidenciada em vários países e ao longo de períodos distintos, o\n",
    "Inse será usado com o objetivo de contextualizar os resultados obtidos pelos estabelecimentos de\n",
    "ensino, nas diferentes avaliações e exames realizados pelo Inep. Desta feita, será possível conhecer,\n",
    "de forma matizada, as escolas que enfrentam maiores desafios e as que foram bem sucedidas na\n",
    "promoção do ensino e, consequentemente, da aprendizagem dos alunos, ao delinear, junto com outros\n",
    "indicadores, em que condições esses processos ocorrem. Por esta razão, \n",
    "tais informações podem subsidiar a formulação e a implementação de um conjunto de políticas e ações\n",
    "governamentais que visam a contribuir com a melhoria do fluxo escolar e da aprendizagem dos alunos,\n",
    "bem como com a diminuição das desigualdades sociais e regionais ainda existentes, ao possibilitar que\n",
    "o poder público apoie, de maneira focalizada, as escolas com mais dificuldades e promova a\n",
    "disseminação de experiências pedagógicas que se revelaram exitosas.\n",
    "\n",
    "Assim, o nível socioeconômico é considerado um constructo latente, que sintetiza de maneira\n",
    "unidimensional informações sobre a escolaridade dos pais e sobre a renda familiar, e o Inse objetiva\n",
    "contextualizar o desempenho das escolas nas avaliações e exames realizados pelo Inep, bem como o\n",
    "seu esforço na realização do trabalho educativo, ao caracterizar, de modo geral, o padrão de vida de\n",
    "seu público, relacionados à respectiva posição na hierarquia social.\n",
    "\n",
    "O Sistema de Avaliação da Educação Básica é um processo de avaliação somativa em larga\n",
    "escala realizado periodicamente pelo INEP e que permite aos diversos níveis governamentais avaliar\n",
    "a qualidade da educação praticada no país, de modo a oferecer subsídios para a elaboração, o\n",
    "monitoramento e o aprimoramento de políticas baseadas em evidências. O SAEB é composto tanto\n",
    "por testes cognitivos, de língua portuguesa (foco em leitura) e matemática (foco em resolução de\n",
    "problemas), aplicados aos alunos, quanto por questionários contextuais, que coletam informações\n",
    "sobre escolas, diretores, professores e sobre os próprios alunos. Trata-se, em síntese, de um conjunto\n",
    "de testes e questionários aplicados tanto de modo amostral como censitariamente. Em 2015, os testes\n",
    "censitários foram aplicados aos estudantes do 5° e 9° ano do ensino fundamental regular, das escolas\n",
    "públicas, urbanas e rurais, que tinham 20 ou mais alunos matriculados na série avaliada.\n",
    "\n",
    "A parte amostral, para fornecer resultados representativos para os sistemas de ensino do país,\n",
    "utilizou os mesmos instrumentos e metodologia da parte censitária, porém foi aplicada, no ensino\n",
    "fundamental regular, aos estudantes do 5° e 9° ano, tanto das escolas públicas, que tenham entre 10 e\n",
    "19 alunos, quanto das particulares, que tinham 10 ou mais alunos matriculados na série avaliada. No\n",
    "ensino médio regular, a parte amostral em 2015 contemplou os alunos do 3° ano, também das escolas\n",
    "públicas e privadas, que tenham 10 ou mais alunos matriculados na série avaliada. Assim, os dados de\n",
    "2015 da parte amostral, juntamente com os dados produzidos pela parte censitária, fornecem resultados\n",
    "representativos sobre os sistemas de ensino brasileiros no âmbito do país, das regiões e dos estados,\n",
    "para os seguintes estratos de interesse: dependência administrativa: rede pública (federal, estadual e\n",
    "municipal) e privada; localização: urbana e rural; e área: capital e interior.\n",
    "\n",
    "A outra base é fornecida pelo Enem, que, a partir da sua reformulação em 2009, passou a aplicar\n",
    "um conjunto de quatro provas objetivas, referentes às áreas de Linguagens e Códigos, Matemática,\n",
    "Ciências Humanas e Ciências da Natureza, e uma Redação. A inscrição no exame foi voluntária e pôde\n",
    "ser feita por quem estava concluindo ou já concluiu o ensino médio, bem como por aqueles que\n",
    "desejavam obter a certificação para sua conclusão. Em 2015, a participação dos candidatos\n",
    "considerados concluintes do ensino médio no exame, mesmo sendo voluntária, foi de pouco mais de\n",
    "975 mil - estudantes. O questionário contextual do Enem, que fornece informações sobre o aluno e sua\n",
    "família, faz parte de uma das fases do processo de inscrição, que requer o seu preenchimento. Os\n",
    "objetivos desse exame, por sua vez, são os seguintes: ser utilizado como processo seletivo para o acesso\n",
    "ao ensino superior, servir de parâmetro para reformulações dos currículos do ensino médio, possibilitar\n",
    "a certificação para conclusão desta etapa de ensino e servir de referência para autoavaliação do aluno.\n",
    "\n",
    "A partir das respostas dos estudantes aos questionários contextuais do Saeb e do Enem, o Inse\n",
    "foi construído. As questões utilizadas dizem respeito à renda familiar, à posse de bens e contratação\n",
    "de serviços de empregados domésticos pela família dos estudantes e ao nível de escolaridade de seus \n",
    "pais ou responsáveis. O universo de referência do Inse, por sua vez, inclui somente os dados de\n",
    "estudantes concluintes regulares que responderam a mais de cinco questões."
   ]
  },
  {
   "cell_type": "markdown",
   "id": "804faeb9",
   "metadata": {},
   "source": [
    "# Desigualdade no Brasil"
   ]
  },
  {
   "cell_type": "markdown",
   "id": "19d05ff3",
   "metadata": {},
   "source": [
    "Com o intuito de discutir a desigualdade no Brasil no âmbito da educação, buscarei responder às seguintes perguntas:\n",
    "\n",
    "- Escolas que encontram-se na capital do Estado possuem maior Inse do que as localizadas no interior?\n",
    "- Escolas que encontram-se na zona urbana do Estado possuem maior Inse do que as na zona rural?\n",
    "- De que forma as diferentes  dependências administrativas das escolas influenciam no cálculo do Inse?\n",
    "- Quanto mais rico o Estado for, maior será seu Inse?\n",
    "\n",
    "Para responder à essas perguntas, utilizei as bases de dados abaixo."
   ]
  },
  {
   "cell_type": "markdown",
   "id": "845b5a1b",
   "metadata": {},
   "source": [
    "## Bases de dados"
   ]
  },
  {
   "cell_type": "markdown",
   "id": "aa12b4eb",
   "metadata": {},
   "source": [
    "- ### [INSE 2015](https://www.gov.br/inep/pt-br/acesso-a-informacao/dados-abertos/indicadores-educacionais/nivel-socioeconomico)"
   ]
  },
  {
   "cell_type": "markdown",
   "id": "440def06",
   "metadata": {},
   "source": [
    "As fontes para a construção desse indicador foram os dados dos questionários contextuais dos\n",
    "estudantes, fornecidos pelos Microdados disponibilizados pelo Inep, do Sistema de Avaliação da\n",
    "Educação Básica (Saeb) e do Exame Nacional do Ensino Médio (Enem), referentes ao ano de 2015.\n",
    "Optou-se pelos Microdados tanto por fornecerem informações com o menor nível de agregação, cuja\n",
    "unidade mínima é o indivíduo, quanto porque essas bases incluem um amplo espectro de escolas\n",
    "públicas e privadas.\n",
    "\n",
    "O universo de referência do Inse inclui somente os dados dos estudantes dessas\n",
    "bases que responderam, ao preencher o questionário contextual, cinco ou mais questões,\n",
    "referentes a:\n",
    "- posse de bens no domicílio: televisão em cores, tv por assinatura, telefone fixo, telefone celular, acesso a internet, aspirador de pó, rádio, videocassete ou DVD, geladeira, freezer (aparelho independente ou parte da geladeira duplex), máquina de lavar roupa, carro, computador, quantidade de banheiros e quartos para dormir;\n",
    "- contratação de serviços: contratação de serviços de mensalista ou diarista;\n",
    "- renda: renda familiar mensal, em salários mínimos;\n",
    "- escolaridade: escolaridade do pai e escolaridade da mãe;\n",
    "\n",
    "Utilizou-se um modelo de resposta gradual, da Teoria de Resposta ao Item, que\n",
    "permite o uso de informações ordinais e possibilita a estimação do indicador com alguns\n",
    "dados faltantes.\n",
    "\n",
    "A medida de nível socioeconômico do aluno é expressa em uma escala contínua,\n",
    "com média igual a 50 e desvio padrão igual a 10. Para melhor descrever os níveis\n",
    "socioeconômicos e facilitar a compreensão dos resultados, utilizou-se a metodologia\n",
    "proposta por Huynh para caracterizar os sete níveis ordinais, a partir do posicionamento\n",
    "das alternativas de cada questão em tais níveis. Não obstante, como a Teoria de Resposta ao Item é um modelo probabilístico, é preciso ressaltar que a resposta do aluno a uma questão se relaciona com a escala de maneira probabilística, de modo que existe\n",
    "uma possibilidade maior dele assinalar uma dada alternativa, em função do seu nível socioeconômico."
   ]
  },
  {
   "cell_type": "markdown",
   "id": "93bc3558",
   "metadata": {},
   "source": [
    "### Dicionário de dados"
   ]
  },
  {
   "cell_type": "markdown",
   "id": "32891ce4",
   "metadata": {},
   "source": [
    "- **CO_ESCOLA**: Código da Escola no CENSO Escolar\n",
    "- **NOME_ESCOLA**: Nome da Escola no CENSO Escolar\n",
    "- **CO_UF**: Código da Unidade da Federação\n",
    "- **NOME_UF**: Nome da Unidade da Federação\n",
    "- **CO_MUNICIPIO**: Código do Município\n",
    "- **NOME_MUNICIPIO**: Nome do Município\n",
    "- **ID_AREA**: Área da Escola ( relacionado ao Município ):\n",
    "    - 0 - Interior\n",
    "    - 1 - Capital\n",
    "\n",
    "- **TP_DEPENDENCIA**: Dependência Administrativa da Escola:\n",
    "    - 1 - Federal\n",
    "    - 2 - Estadual\n",
    "    - 3 - Municipal\n",
    "    - 4 - Privada\n",
    "    \n",
    "- **TP_LOCALIZACAO**: Localização da Escola:\n",
    "    - 1 - Urbana\n",
    "    - 2 - Rural\n",
    "    \n",
    "- **QTD_ALUNOS_INSE**: Quantidade de Alunos com INSE calculado utilizado para o cálculo das médias por escola\n",
    "- **INSE_VALOR_ABSOLUTO**: Média do Indicador de Nível Socioeconômico dos alunos da escola\n",
    "- **INSE_CLASSIFICACAO**: Classificação do Indicador de Nível Socioeconômico em 6 Grupos:\n",
    "    - Grupo 1\n",
    "    - Grupo 2\n",
    "    - Grupo 3\n",
    "    - Grupo 4\n",
    "    - Grupo 5\n",
    "    - Grupo 6\n",
    "    \n",
    "Para melhor descrever o nível socioeconômico das escolas, foram criados, a partir da análise\n",
    "de cluster por método hierárquico, seis grupos, de forma que o Grupo 1 congrega as escolas com Inse\n",
    "médio mais baixo e o Grupo 6, com mais alto. A Tabela abaixo apresenta a distribuição das escolas que\n",
    "tiveram o Inse médio calculado, por Grupo, e pode ser encontrada em https://download.inep.gov.br/informacoes_estatisticas/indicadores_educacionais/2015/nota_tecnica/nota_tecnica_inep_inse_2015.pdf.\n",
    "    \n",
    "<img src=\"Imagens/tabela_grupos.png\">"
   ]
  },
  {
   "cell_type": "markdown",
   "id": "560da110",
   "metadata": {},
   "source": [
    "### Visualizando a base de dados"
   ]
  },
  {
   "cell_type": "code",
   "execution_count": 1,
   "id": "a49e71ef",
   "metadata": {},
   "outputs": [],
   "source": [
    "import pandas as pd"
   ]
  },
  {
   "cell_type": "code",
   "execution_count": 2,
   "id": "0d9f9e9f",
   "metadata": {},
   "outputs": [],
   "source": [
    "dataframe_inse = pd.read_csv(\"Dados/INSE_2015.csv\")"
   ]
  },
  {
   "cell_type": "code",
   "execution_count": 3,
   "id": "2fb59f01",
   "metadata": {},
   "outputs": [
    {
     "data": {
      "text/html": [
       "<div>\n",
       "<style scoped>\n",
       "    .dataframe tbody tr th:only-of-type {\n",
       "        vertical-align: middle;\n",
       "    }\n",
       "\n",
       "    .dataframe tbody tr th {\n",
       "        vertical-align: top;\n",
       "    }\n",
       "\n",
       "    .dataframe thead th {\n",
       "        text-align: right;\n",
       "    }\n",
       "</style>\n",
       "<table border=\"1\" class=\"dataframe\">\n",
       "  <thead>\n",
       "    <tr style=\"text-align: right;\">\n",
       "      <th></th>\n",
       "      <th>CO_ESCOLA</th>\n",
       "      <th>NOME_ESCOLA</th>\n",
       "      <th>CO_UF</th>\n",
       "      <th>NOME_UF</th>\n",
       "      <th>CO_MUNICIPIO</th>\n",
       "      <th>NOME_MUNICIPIO</th>\n",
       "      <th>ID_AREA</th>\n",
       "      <th>TP_DEPENDENCIA</th>\n",
       "      <th>TP_LOCALIZACAO</th>\n",
       "      <th>QTD_ALUNOS_INSE</th>\n",
       "      <th>INSE_VALOR_ABSOLUTO</th>\n",
       "      <th>INSE_CLASSIFICACAO</th>\n",
       "    </tr>\n",
       "  </thead>\n",
       "  <tbody>\n",
       "    <tr>\n",
       "      <th>0</th>\n",
       "      <td>11000058</td>\n",
       "      <td>CENTRO DE ENSINO CLASSE A</td>\n",
       "      <td>11</td>\n",
       "      <td>Rondônia</td>\n",
       "      <td>1100205</td>\n",
       "      <td>1100205</td>\n",
       "      <td>1</td>\n",
       "      <td>4</td>\n",
       "      <td>1</td>\n",
       "      <td>130</td>\n",
       "      <td>64,17</td>\n",
       "      <td>Grupo 6</td>\n",
       "    </tr>\n",
       "    <tr>\n",
       "      <th>1</th>\n",
       "      <td>11000171</td>\n",
       "      <td>CENTRO EDUCACIONAL MOJUCA</td>\n",
       "      <td>11</td>\n",
       "      <td>Rondônia</td>\n",
       "      <td>1100205</td>\n",
       "      <td>1100205</td>\n",
       "      <td>1</td>\n",
       "      <td>4</td>\n",
       "      <td>1</td>\n",
       "      <td>17</td>\n",
       "      <td>54,96</td>\n",
       "      <td>Grupo 4</td>\n",
       "    </tr>\n",
       "    <tr>\n",
       "      <th>2</th>\n",
       "      <td>11000198</td>\n",
       "      <td>CENTRO EDUCACIONAL OBJETIVO</td>\n",
       "      <td>11</td>\n",
       "      <td>Rondônia</td>\n",
       "      <td>1100205</td>\n",
       "      <td>1100205</td>\n",
       "      <td>1</td>\n",
       "      <td>4</td>\n",
       "      <td>1</td>\n",
       "      <td>37</td>\n",
       "      <td>61,17</td>\n",
       "      <td>Grupo 5</td>\n",
       "    </tr>\n",
       "    <tr>\n",
       "      <th>3</th>\n",
       "      <td>11000201</td>\n",
       "      <td>EEEF PROF HERBERT DE ALENCAR</td>\n",
       "      <td>11</td>\n",
       "      <td>Rondônia</td>\n",
       "      <td>1100205</td>\n",
       "      <td>1100205</td>\n",
       "      <td>1</td>\n",
       "      <td>2</td>\n",
       "      <td>1</td>\n",
       "      <td>86</td>\n",
       "      <td>53,46</td>\n",
       "      <td>Grupo 4</td>\n",
       "    </tr>\n",
       "    <tr>\n",
       "      <th>4</th>\n",
       "      <td>11000244</td>\n",
       "      <td>COLEGIO DOM BOSCO</td>\n",
       "      <td>11</td>\n",
       "      <td>Rondônia</td>\n",
       "      <td>1100205</td>\n",
       "      <td>1100205</td>\n",
       "      <td>1</td>\n",
       "      <td>4</td>\n",
       "      <td>1</td>\n",
       "      <td>49</td>\n",
       "      <td>56,88</td>\n",
       "      <td>Grupo 5</td>\n",
       "    </tr>\n",
       "  </tbody>\n",
       "</table>\n",
       "</div>"
      ],
      "text/plain": [
       "   CO_ESCOLA                   NOME_ESCOLA  CO_UF   NOME_UF  CO_MUNICIPIO  \\\n",
       "0   11000058     CENTRO DE ENSINO CLASSE A     11  Rondônia       1100205   \n",
       "1   11000171     CENTRO EDUCACIONAL MOJUCA     11  Rondônia       1100205   \n",
       "2   11000198   CENTRO EDUCACIONAL OBJETIVO     11  Rondônia       1100205   \n",
       "3   11000201  EEEF PROF HERBERT DE ALENCAR     11  Rondônia       1100205   \n",
       "4   11000244             COLEGIO DOM BOSCO     11  Rondônia       1100205   \n",
       "\n",
       "   NOME_MUNICIPIO  ID_AREA  TP_DEPENDENCIA  TP_LOCALIZACAO  QTD_ALUNOS_INSE  \\\n",
       "0         1100205        1               4               1              130   \n",
       "1         1100205        1               4               1               17   \n",
       "2         1100205        1               4               1               37   \n",
       "3         1100205        1               2               1               86   \n",
       "4         1100205        1               4               1               49   \n",
       "\n",
       "  INSE_VALOR_ABSOLUTO INSE_CLASSIFICACAO  \n",
       "0               64,17            Grupo 6  \n",
       "1               54,96            Grupo 4  \n",
       "2               61,17            Grupo 5  \n",
       "3               53,46            Grupo 4  \n",
       "4               56,88            Grupo 5  "
      ]
     },
     "execution_count": 3,
     "metadata": {},
     "output_type": "execute_result"
    }
   ],
   "source": [
    "dataframe_inse.head()"
   ]
  },
  {
   "cell_type": "markdown",
   "id": "6220d4ca",
   "metadata": {},
   "source": [
    "- ### [PIB 2015](https://agenciadenoticias.ibge.gov.br/agencia-sala-de-imprensa/2013-agencia-de-noticias/releases/17999-contas-regionais-2015-queda-no-pib-atinge-todas-as-unidades-da-federacao-pela-primeira-vez-na-serie)"
   ]
  },
  {
   "cell_type": "markdown",
   "id": "e890d015",
   "metadata": {},
   "source": [
    "O PIB é a soma de todos os bens e serviços finais produzidos por um país, estado ou cidade, geralmente em um ano. Todos os países calculam o seu PIB nas suas respectivas moedas. Ele mede apenas os bens e serviços finais para evitar dupla contagem. Se um país produz 100 reais de trigo, 200 reais de farinha de trigo e 300 reais de pão, por exemplo, seu PIB será de 300 reais, pois os valores da farinha e do trigo já estão embutidos no valor do pão.\n",
    "\n",
    "Os bens e serviços finais que compõem o PIB são medidos no preço em que chegam ao consumidor. Dessa forma, levam em consideração também os impostos sobre os produtos comercializados. Dessa forma, o PIB não é o total da riqueza existente em um país. Esse é um equívoco muito comum, pois dá a sensação de que o PIB seria um estoque de valor que existe na economia, como uma espécie de tesouro nacional. Na realidade, o PIB é um indicador de fluxo de novos bens e serviços finais produzidos durante um período. Se um país não produzir nada em um ano, o seu PIB será nulo."
   ]
  },
  {
   "cell_type": "markdown",
   "id": "ddaf7572",
   "metadata": {},
   "source": [
    "### Dicionário de dados"
   ]
  },
  {
   "cell_type": "markdown",
   "id": "1230ed1c",
   "metadata": {},
   "source": [
    "- **Unidade da Federação**: Nome da Unidade da Federação\n",
    "- **Valor corrente\\n(R$ 1 000 000)**: Valor do PIB em milhões\t\n",
    "- **Participação\\n(%)**: Porcentagem de participação em relação ao PIB total do Brasil em 2015\n",
    "- **Posição relativa da variação em volume**: Quanto menor à variação em volume, mais bem colocado está o Estado\n",
    "- **Variação em volume\\n(%)**: Diferença na participação entre os anos de 2002 e 2015"
   ]
  },
  {
   "cell_type": "markdown",
   "id": "5eb156d6",
   "metadata": {},
   "source": [
    "### Visualizando a base de dados"
   ]
  },
  {
   "cell_type": "code",
   "execution_count": 4,
   "id": "06997157",
   "metadata": {},
   "outputs": [],
   "source": [
    "dataframe_pib = pd.read_csv(\"Dados/PIB.csv\")"
   ]
  },
  {
   "cell_type": "code",
   "execution_count": 5,
   "id": "1376f5cc",
   "metadata": {},
   "outputs": [
    {
     "data": {
      "text/html": [
       "<div>\n",
       "<style scoped>\n",
       "    .dataframe tbody tr th:only-of-type {\n",
       "        vertical-align: middle;\n",
       "    }\n",
       "\n",
       "    .dataframe tbody tr th {\n",
       "        vertical-align: top;\n",
       "    }\n",
       "\n",
       "    .dataframe thead th {\n",
       "        text-align: right;\n",
       "    }\n",
       "</style>\n",
       "<table border=\"1\" class=\"dataframe\">\n",
       "  <thead>\n",
       "    <tr style=\"text-align: right;\">\n",
       "      <th></th>\n",
       "      <th>Unidade da Federação</th>\n",
       "      <th>Valor corrente\\n(R$ 1 000 000)</th>\n",
       "      <th>Participação\\n(%)</th>\n",
       "      <th>Posição relativa da variação em volume</th>\n",
       "      <th>Variação em volume\\n(%)</th>\n",
       "    </tr>\n",
       "  </thead>\n",
       "  <tbody>\n",
       "    <tr>\n",
       "      <th>0</th>\n",
       "      <td>Mato Grosso do Sul</td>\n",
       "      <td>83 082</td>\n",
       "      <td>1,4</td>\n",
       "      <td>1º</td>\n",
       "      <td>-0,3</td>\n",
       "    </tr>\n",
       "    <tr>\n",
       "      <th>1</th>\n",
       "      <td>Roraima</td>\n",
       "      <td>10 354</td>\n",
       "      <td>0,2</td>\n",
       "      <td>2º</td>\n",
       "      <td>-0,3</td>\n",
       "    </tr>\n",
       "    <tr>\n",
       "      <th>2</th>\n",
       "      <td>Tocantins</td>\n",
       "      <td>28 930</td>\n",
       "      <td>0,5</td>\n",
       "      <td>3º</td>\n",
       "      <td>-0,4</td>\n",
       "    </tr>\n",
       "    <tr>\n",
       "      <th>3</th>\n",
       "      <td>Pará</td>\n",
       "      <td>130 883</td>\n",
       "      <td>2,2</td>\n",
       "      <td>4º</td>\n",
       "      <td>-0,9</td>\n",
       "    </tr>\n",
       "    <tr>\n",
       "      <th>4</th>\n",
       "      <td>Distrito Federal</td>\n",
       "      <td>215 613</td>\n",
       "      <td>3,6</td>\n",
       "      <td>5º</td>\n",
       "      <td>-1</td>\n",
       "    </tr>\n",
       "  </tbody>\n",
       "</table>\n",
       "</div>"
      ],
      "text/plain": [
       "  Unidade da Federação Valor corrente\\n(R$ 1 000 000) Participação\\n(%)  \\\n",
       "0   Mato Grosso do Sul                         83 082               1,4   \n",
       "1              Roraima                         10 354               0,2   \n",
       "2            Tocantins                         28 930               0,5   \n",
       "3                 Pará                        130 883               2,2   \n",
       "4     Distrito Federal                        215 613               3,6   \n",
       "\n",
       "  Posição relativa da variação em volume Variação em volume\\n(%)  \n",
       "0                                     1º                    -0,3  \n",
       "1                                     2º                    -0,3  \n",
       "2                                     3º                    -0,4  \n",
       "3                                     4º                    -0,9  \n",
       "4                                     5º                      -1  "
      ]
     },
     "execution_count": 5,
     "metadata": {},
     "output_type": "execute_result"
    }
   ],
   "source": [
    "dataframe_pib.head()"
   ]
  },
  {
   "cell_type": "markdown",
   "id": "c521012c",
   "metadata": {},
   "source": [
    "- ### [Relação entre Estados e Regiões do Brasil](https://doutoresdoexcel.com.br/relacao-estados-e-regioes-curso-power-bi/)"
   ]
  },
  {
   "cell_type": "markdown",
   "id": "eebdbf17",
   "metadata": {},
   "source": [
    "### Dicionário de dados"
   ]
  },
  {
   "cell_type": "markdown",
   "id": "8c36b374",
   "metadata": {},
   "source": [
    "- **SIGLA**: Código da Unidade da Federação\n",
    "- **ESTADO**: Nome da Unidade da Federação\n",
    "- **CAPITAL**: Nome da Capital da Unidade da Federação\n",
    "- **REGIÃO**: Região à que pertence a Unidade da Federação"
   ]
  },
  {
   "cell_type": "markdown",
   "id": "1711fb11",
   "metadata": {},
   "source": [
    "### Visualização da base de dados"
   ]
  },
  {
   "cell_type": "code",
   "execution_count": 6,
   "id": "056658de",
   "metadata": {},
   "outputs": [],
   "source": [
    "dataframe_regioes_estados = pd.read_csv(\"Dados/Relação Estados e Regiões.csv\")"
   ]
  },
  {
   "cell_type": "code",
   "execution_count": 7,
   "id": "b3a9c6a3",
   "metadata": {},
   "outputs": [
    {
     "data": {
      "text/html": [
       "<div>\n",
       "<style scoped>\n",
       "    .dataframe tbody tr th:only-of-type {\n",
       "        vertical-align: middle;\n",
       "    }\n",
       "\n",
       "    .dataframe tbody tr th {\n",
       "        vertical-align: top;\n",
       "    }\n",
       "\n",
       "    .dataframe thead th {\n",
       "        text-align: right;\n",
       "    }\n",
       "</style>\n",
       "<table border=\"1\" class=\"dataframe\">\n",
       "  <thead>\n",
       "    <tr style=\"text-align: right;\">\n",
       "      <th></th>\n",
       "      <th>SIGLA</th>\n",
       "      <th>ESTADO</th>\n",
       "      <th>CAPITAL</th>\n",
       "      <th>REGIÃO</th>\n",
       "    </tr>\n",
       "  </thead>\n",
       "  <tbody>\n",
       "    <tr>\n",
       "      <th>0</th>\n",
       "      <td>AC</td>\n",
       "      <td>ACRE</td>\n",
       "      <td>RIO BRANCO</td>\n",
       "      <td>NORTE</td>\n",
       "    </tr>\n",
       "    <tr>\n",
       "      <th>1</th>\n",
       "      <td>AM</td>\n",
       "      <td>AMAZONAS</td>\n",
       "      <td>MANAUS</td>\n",
       "      <td>NORTE</td>\n",
       "    </tr>\n",
       "    <tr>\n",
       "      <th>2</th>\n",
       "      <td>AP</td>\n",
       "      <td>AMAPÁ</td>\n",
       "      <td>MACAPÁ</td>\n",
       "      <td>NORTE</td>\n",
       "    </tr>\n",
       "    <tr>\n",
       "      <th>3</th>\n",
       "      <td>PA</td>\n",
       "      <td>PARÁ</td>\n",
       "      <td>BELÉM</td>\n",
       "      <td>NORTE</td>\n",
       "    </tr>\n",
       "    <tr>\n",
       "      <th>4</th>\n",
       "      <td>RO</td>\n",
       "      <td>RONDÔNIA</td>\n",
       "      <td>PORTO VELHO</td>\n",
       "      <td>NORTE</td>\n",
       "    </tr>\n",
       "  </tbody>\n",
       "</table>\n",
       "</div>"
      ],
      "text/plain": [
       "  SIGLA    ESTADO      CAPITAL REGIÃO\n",
       "0    AC      ACRE   RIO BRANCO  NORTE\n",
       "1    AM  AMAZONAS       MANAUS  NORTE\n",
       "2    AP     AMAPÁ       MACAPÁ  NORTE\n",
       "3    PA      PARÁ        BELÉM  NORTE\n",
       "4    RO  RONDÔNIA  PORTO VELHO  NORTE"
      ]
     },
     "execution_count": 7,
     "metadata": {},
     "output_type": "execute_result"
    }
   ],
   "source": [
    "dataframe_regioes_estados.head()"
   ]
  },
  {
   "cell_type": "markdown",
   "id": "44c85625",
   "metadata": {},
   "source": [
    "## Análise inicial dos dados - INSE 2015"
   ]
  },
  {
   "cell_type": "markdown",
   "id": "38d535bd",
   "metadata": {},
   "source": [
    "Para a realização das análises descritivas, foi utilizado o Inse médio das 67.784 escolas, que\n",
    "tinham 10 ou mais alunos com a medida calculada. "
   ]
  },
  {
   "cell_type": "code",
   "execution_count": 15,
   "id": "d9fece6e",
   "metadata": {},
   "outputs": [],
   "source": [
    "import pandas as pd\n",
    "import matplotlib.pyplot as plt\n",
    "import seaborn as sns\n",
    "\n",
    "%matplotlib inline\n",
    "\n",
    "sns.set_theme(style=\"darkgrid\")"
   ]
  },
  {
   "cell_type": "code",
   "execution_count": 10,
   "id": "40c7264b",
   "metadata": {},
   "outputs": [],
   "source": [
    "# Trocando vírgula por ponto nos valores da coluna INSE_VALOR_ABSOLUTO\n",
    "# Dessa forma, 64,17 se torna 64.17, por exemplo\n",
    "dataframe_inse[\"INSE_VALOR_ABSOLUTO\"] = dataframe_inse[\"INSE_VALOR_ABSOLUTO\"].replace(',', '.', regex = True)\n",
    "\n",
    "# Transformando a coluna INSE_VALOR_ABSOLUTO para float ( originalmente era object )\n",
    "dataframe_inse[\"INSE_VALOR_ABSOLUTO\"] = dataframe_inse[\"INSE_VALOR_ABSOLUTO\"].astype(float)"
   ]
  },
  {
   "cell_type": "markdown",
   "id": "4b4f2fae",
   "metadata": {},
   "source": [
    "### Distribuição do Inse por área"
   ]
  },
  {
   "cell_type": "code",
   "execution_count": 11,
   "id": "e8cda7aa",
   "metadata": {},
   "outputs": [
    {
     "data": {
      "image/png": "[encoded data removed]",
      "text/plain": [
       "<Figure size 720x432 with 1 Axes>"
      ]
     },
     "metadata": {},
     "output_type": "display_data"
    }
   ],
   "source": [
    "# Filtros para cada valor de área\n",
    "id_area_0 = dataframe_inse[dataframe_inse[\"ID_AREA\"] == 0]\n",
    "id_area_1 = dataframe_inse[dataframe_inse[\"ID_AREA\"] == 1]\n",
    "\n",
    "# Dados a serem plotados\n",
    "dados = [id_area_0[\"INSE_VALOR_ABSOLUTO\"], id_area_1[\"INSE_VALOR_ABSOLUTO\"]]\n",
    "\n",
    "# Configurações do gráfico\n",
    "fig = plt.figure(figsize = (10, 6))\n",
    "eixo = fig.add_axes([0, 0, 1, 1])\n",
    "\n",
    "grafico = eixo.boxplot(dados, patch_artist = True)\n",
    "eixo.set_title(\"Gráfico 1: Distribuição do Inse por área\", fontsize = 20, pad = 10)\n",
    "plt.xticks([1, 2], [\"Interior\", \"Capital\"], fontsize = 15)\n",
    "\n",
    "\n",
    "# Alterando tamanho dos outliers\n",
    "for outlier in grafico[\"fliers\"]:\n",
    "    outlier.set(markersize = 10)"
   ]
  },
  {
   "cell_type": "markdown",
   "id": "99157df6",
   "metadata": {},
   "source": [
    "O Gráfico 1 ilustra a distribuição do Inse médio das escolas por área: interior ou capital. Observa-se que, de modo geral, as escolas na capítal possuem um Inse maior do que as escolas no interior."
   ]
  },
  {
   "cell_type": "markdown",
   "id": "69690065",
   "metadata": {},
   "source": [
    "### Distribuição do Inse por dependência administrativa"
   ]
  },
  {
   "cell_type": "code",
   "execution_count": 12,
   "id": "e33f16c0",
   "metadata": {},
   "outputs": [
    {
     "data": {
      "image/png": "[encoded data removed]",
      "text/plain": [
       "<Figure size 720x432 with 1 Axes>"
      ]
     },
     "metadata": {},
     "output_type": "display_data"
    }
   ],
   "source": [
    "# Filtros para cada valor de dependência administrativa\n",
    "tp_dependencia_1 = dataframe_inse[dataframe_inse[\"TP_DEPENDENCIA\"] == 1]\n",
    "tp_dependencia_2 = dataframe_inse[dataframe_inse[\"TP_DEPENDENCIA\"] == 2]\n",
    "tp_dependencia_3 = dataframe_inse[dataframe_inse[\"TP_DEPENDENCIA\"] == 3]\n",
    "tp_dependencia_4 = dataframe_inse[dataframe_inse[\"TP_DEPENDENCIA\"] == 4]\n",
    "\n",
    "# Dados a serem plotados\n",
    "dados = [\n",
    "    tp_dependencia_1[\"INSE_VALOR_ABSOLUTO\"],\n",
    "    tp_dependencia_2[\"INSE_VALOR_ABSOLUTO\"],\n",
    "    tp_dependencia_3[\"INSE_VALOR_ABSOLUTO\"],\n",
    "    tp_dependencia_4[\"INSE_VALOR_ABSOLUTO\"]\n",
    "]\n",
    "\n",
    "# Configurações do gráfico\n",
    "fig = plt.figure(figsize = (10, 6))\n",
    "eixo = fig.add_axes([0, 0, 1, 1])\n",
    "\n",
    "grafico = eixo.boxplot(dados, patch_artist = True)\n",
    "eixo.set_title(\"Gráfico 2: Distribuição do Inse por dependência administrativa\", fontsize = 20, pad = 10)\n",
    "plt.xticks([1, 2, 3, 4], [\"Federal\", \"Estadual\", \"Municipal\", \"Privada\"], fontsize = 15)\n",
    "\n",
    "# Alterando tamanho dos outliers\n",
    "for outlier in grafico[\"fliers\"]:\n",
    "    outlier.set(markersize = 10)"
   ]
  },
  {
   "cell_type": "markdown",
   "id": "27061464",
   "metadata": {},
   "source": [
    "O Gráfico 2 apresenta o Inse das escolas por dependência administrativa. Observa-se que, em geral, a dependência administrativa com o maior Inse é a das escolas privadas, seguidas pelas escolas federais, estaduais e, por fim, as municipais."
   ]
  },
  {
   "cell_type": "markdown",
   "id": "f5e94c00",
   "metadata": {},
   "source": [
    "### Distribuição do Inse por localização"
   ]
  },
  {
   "cell_type": "code",
   "execution_count": 13,
   "id": "6e1ccf20",
   "metadata": {},
   "outputs": [
    {
     "data": {
      "image/png": "[encoded data removed]",
      "text/plain": [
       "<Figure size 720x432 with 1 Axes>"
      ]
     },
     "metadata": {},
     "output_type": "display_data"
    }
   ],
   "source": [
    "# Filtros para cada valor de localização\n",
    "tp_localizacao_1 = dataframe_inse[dataframe_inse[\"TP_LOCALIZACAO\"] == 1]\n",
    "tp_localizacao_2 = dataframe_inse[dataframe_inse[\"TP_LOCALIZACAO\"] == 2]\n",
    "\n",
    "# Dados a serem plotados\n",
    "dados = [\n",
    "    tp_localizacao_1[\"INSE_VALOR_ABSOLUTO\"],\n",
    "    tp_localizacao_2[\"INSE_VALOR_ABSOLUTO\"]\n",
    "]\n",
    "\n",
    "# Configurações do gráfico\n",
    "fig = plt.figure(figsize = (10, 6))\n",
    "eixo = fig.add_axes([0, 0, 1, 1])\n",
    "\n",
    "grafico = eixo.boxplot(dados, patch_artist = True)\n",
    "eixo.set_title(\"Gráfico 3: Distribuição do Inse por localização\", fontsize = 20, pad = 10)\n",
    "plt.xticks([1, 2], [\"Urbana\", \"Rural\"], fontsize = 15)\n",
    "\n",
    "# Alterando tamanho dos outliers\n",
    "for outlier in grafico[\"fliers\"]:\n",
    "    outlier.set(markersize = 10)"
   ]
  },
  {
   "cell_type": "markdown",
   "id": "cc705bbc",
   "metadata": {},
   "source": [
    "O Gráfico 3 ilustra a distribuição do Inse médio das escolas por localização: urbana ou rural. Observa-se que, de modo geral, as escolas urbanas possuem um Inse maior do que as escolas rurais."
   ]
  },
  {
   "cell_type": "markdown",
   "id": "174fc399",
   "metadata": {},
   "source": [
    "### Distribuição de escolas por grupo"
   ]
  },
  {
   "cell_type": "code",
   "execution_count": 34,
   "id": "3b423b3d",
   "metadata": {},
   "outputs": [
    {
     "data": {
      "image/png": "[encoded data removed]",
      "text/plain": [
       "<Figure size 576x360 with 1 Axes>"
      ]
     },
     "metadata": {},
     "output_type": "display_data"
    }
   ],
   "source": [
    "# Ordem das barras a serem plotadas\n",
    "grupos = [\"Grupo 1\", \"Grupo 2\", \"Grupo 3\", \"Grupo 4\", \"Grupo 5\", \"Grupo 6\"]\n",
    "\n",
    "#Configurações do gráfico\n",
    "fig = plt.figure(figsize = (8, 5))\n",
    "eixo = fig.add_axes([0, 0, 1, 1])\n",
    "\n",
    "grafico = sns.countplot(x = dataframe_inse[\"INSE_CLASSIFICACAO\"],  order = grupos)\n",
    "grafico.set_title(\"Gráfico 4: Distribuição de escolas por grupo\", fontsize = 20, pad = 8)\n",
    "grafico.set_xlabel(\"Grupos\", fontsize = 15)\n",
    "grafico.set_ylabel(\"Total de escolas\", fontsize = 15)\n",
    "\n",
    "# Escrevendo os valores acima de suas respectivas barras\n",
    "for valor in grafico.patches:\n",
    "        grafico.annotate('{:.0f}'.format(valor.get_height()), (valor.get_x()+0.4, valor.get_height()),\n",
    "                    ha = 'center', va = 'bottom',\n",
    "                    color = 'black', fontsize = 13)"
   ]
  },
  {
   "cell_type": "markdown",
   "id": "cc1dcbfb",
   "metadata": {},
   "source": [
    "O Gráfico 4 ilustra a quantidade de escolas por grupo, considerando um total de seis grupos, de forma que o Grupo 1 congrega as escolas com Inse médio mais baixo e o Grupo 6, com mais alto. Observa-se que, de modo geral, poucas escolas possuem Inse médio alto, com total de apenas 2,87% no Grupo 6.\n"
   ]
  },
  {
   "cell_type": "markdown",
   "id": "2b61b636",
   "metadata": {},
   "source": [
    "## Análise inicial dos dados - PIB 2015"
   ]
  },
  {
   "cell_type": "code",
   "execution_count": null,
   "id": "18e1337d",
   "metadata": {},
   "outputs": [],
   "source": []
  },
  {
   "cell_type": "code",
   "execution_count": null,
   "id": "875cf875",
   "metadata": {},
   "outputs": [],
   "source": []
  },
  {
   "cell_type": "code",
   "execution_count": null,
   "id": "d98fd8af",
   "metadata": {},
   "outputs": [],
   "source": []
  },
  {
   "cell_type": "code",
   "execution_count": null,
   "id": "d29d57db",
   "metadata": {},
   "outputs": [],
   "source": []
  },
  {
   "cell_type": "code",
   "execution_count": null,
   "id": "06d4acf3",
   "metadata": {},
   "outputs": [],
   "source": []
  },
  {
   "cell_type": "markdown",
   "id": "859f0a16",
   "metadata": {},
   "source": [
    "### Referências:\n",
    "- https://basedosdados.org/dataset/br-inep-indicadores-educacionais\n",
    "- https://download.inep.gov.br/educacao_basica/enem/enem_por_escola/2015/nota_tecnica_indicador_nivel_socioeconomico.pdf\n",
    "- https://www.ibge.gov.br/explica/pib.php\n",
    "- https://extremepresentation.typepad.com/files/choosing-a-good-chart-09.pdf\n",
    "- https://stackoverflow.com/questions/37593550/replace-method-not-working-on-pandas-dataframe\n",
    "- https://matplotlib.org/3.1.1/gallery/pyplots/boxplot_demo_pyplot.html#sphx-glr-gallery-pyplots-boxplot-demo-pyplot-py\n",
    "- https://stats.stackexchange.com/questions/3476/how-to-name-the-ticks-in-a-python-matplotlib-boxplot\n",
    "- https://seaborn.pydata.org/generated/seaborn.barplot.html\n",
    "- https://seaborn.pydata.org/generated/seaborn.countplot.html\n",
    "- https://stackoverflow.com/questions/43214978/seaborn-barplot-displaying-values"
   ]
  }
 ],
 "metadata": {
  "kernelspec": {
   "display_name": "Python 3",
   "language": "python",
   "name": "python3"
  },
  "language_info": {
   "codemirror_mode": {
    "name": "ipython",
    "version": 3
   },
   "file_extension": ".py",
   "mimetype": "text/x-python",
   "name": "python",
   "nbconvert_exporter": "python",
   "pygments_lexer": "ipython3",
   "version": "3.7.0"
  }
 },
 "nbformat": 4,
 "nbformat_minor": 5
}
